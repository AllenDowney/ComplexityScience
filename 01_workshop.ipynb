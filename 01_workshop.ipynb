{
 "cells": [
  {
   "cell_type": "markdown",
   "metadata": {},
   "source": [
    "# Agent Based Models of Segregation\n",
    "\n",
    "Code examples from [Think Complexity, 2nd edition](https://thinkcomplex.com).\n",
    "\n",
    "Copyright 2019 Allen Downey, [MIT License](http://opensource.org/licenses/MIT)"
   ]
  },
  {
   "cell_type": "markdown",
   "metadata": {},
   "source": [
    "For the animations in this notebook to work, you might have to install\n",
    "ffmpeg.  If you are using Anaconda (and I recommend it strongly), you should\n",
    "be able to get it by running the following command in a terminal or\n",
    "Command Window.\n",
    "\n",
    "```\n",
    "conda install ffmpeg\n",
    "```\n",
    " "
   ]
  },
  {
   "cell_type": "code",
   "execution_count": 54,
   "metadata": {},
   "outputs": [],
   "source": [
    "%matplotlib inline\n",
    "\n",
    "import numpy as np\n",
    "import matplotlib.pyplot as plt\n",
    "import seaborn as sns\n",
    "\n",
    "from matplotlib.animation import FuncAnimation\n",
    "from matplotlib import rc\n",
    "rc('animation', html='jshtml')\n",
    "\n",
    "from utils import decorate\n",
    "\n",
    "import warnings\n",
    "warnings.filterwarnings(\"ignore\", category=RuntimeWarning)"
   ]
  },
  {
   "cell_type": "markdown",
   "metadata": {},
   "source": [
    "## Schelling's model"
   ]
  },
  {
   "cell_type": "markdown",
   "metadata": {},
   "source": [
    "In 1969 Thomas Schelling published \"[Models of Segregation](http://thinkcomplex.com/schell),\n",
    "which proposed a simple model of racial segregation.\n",
    "\n",
    "The Schelling model is a grid where each cell represents a house.  The houses are occupied by two kinds of agents,\n",
    "labeled red and blue, in roughly equal numbers.  About 10% of the\n",
    "houses are empty.\n",
    "\n",
    "At any point in time, an agent might be happy or unhappy, depending\n",
    "on the other agents in the neighborhood, where the\n",
    "\"neighborhood\" of each house is the set of eight adjacent cells.\n",
    "\n",
    "In one version of the model, agents are happy if they have at least\n",
    "three neighbors like themselves, and unhappy if they have fewer than three.\n",
    "\n",
    "The simulation proceeds by choosing an agent at random and checking\n",
    "to see whether they are happy.  If so, nothing happens; if not,\n",
    "the agent chooses one of the unoccupied cells at random and moves.\n",
    "\n",
    "You will not be surprised to hear that this model leads to some\n",
    "segregation, but you might be surprised by the degree.  \n",
    "\n",
    "### Implementing the model\n",
    "\n",
    "We will explore Schelling's model by implementing it in Python.  The following\n",
    "function initializes the grid."
   ]
  },
  {
   "cell_type": "code",
   "execution_count": 2,
   "metadata": {},
   "outputs": [],
   "source": [
    "def make_grid(n):\n",
    "    \"\"\"Make an array with two types of agents.\n",
    "    \n",
    "    n: width and height of the array\n",
    "    \n",
    "    return: NumPy array\n",
    "    \"\"\"\n",
    "    choices = np.array([0, 1, 2], dtype=np.int8)\n",
    "    probs = [0.1, 0.45, 0.45]\n",
    "    return np.random.choice(choices, (n, n), p=probs)"
   ]
  },
  {
   "cell_type": "code",
   "execution_count": 3,
   "metadata": {},
   "outputs": [],
   "source": [
    "grid = make_grid(n=10)\n",
    "grid"
   ]
  },
  {
   "cell_type": "markdown",
   "metadata": {},
   "source": [
    "The following function plots a visualization the grid."
   ]
  },
  {
   "cell_type": "code",
   "execution_count": 4,
   "metadata": {},
   "outputs": [],
   "source": [
    "from matplotlib.colors import LinearSegmentedColormap\n",
    "\n",
    "# make a custom color map\n",
    "palette = sns.color_palette('muted')\n",
    "colors = 'white', palette[1], palette[0]\n",
    "cmap = LinearSegmentedColormap.from_list('cmap', colors)\n",
    "\n",
    "def draw(grid):\n",
    "    \"\"\"Draws the grid.\n",
    "    \n",
    "    grid: NumPy array\n",
    "    \"\"\"\n",
    "    # Make a copy because some implementations\n",
    "    # of step perform updates in place.\n",
    "    a = grid.copy()\n",
    "    n, m = a.shape\n",
    "    plt.axis([0, m, 0, n])\n",
    "    plt.xticks([])\n",
    "    plt.yticks([])\n",
    "\n",
    "    options = dict(interpolation='none', alpha=0.8)\n",
    "    options['extent'] = [0, m, 0, n]\n",
    "    return plt.imshow(a, cmap, **options)"
   ]
  },
  {
   "cell_type": "markdown",
   "metadata": {},
   "source": [
    "Here's what the random initial condition looks like."
   ]
  },
  {
   "cell_type": "code",
   "execution_count": 5,
   "metadata": {},
   "outputs": [],
   "source": [
    "im = draw(grid)"
   ]
  },
  {
   "cell_type": "markdown",
   "metadata": {},
   "source": [
    "### The step function\n",
    "\n",
    "To simulate a time step in Schelling's model, we have to\n",
    "\n",
    "1) Choose and unhappy agent.\n",
    "2) Choose a random empty cell.\n",
    "3) Move the agent.\n",
    "\n",
    "The next few cells develop the functions we'll need.  As an exercise, you will assemble them into a `step` function.\n",
    "\n",
    "First I'll compute `empty`, which is a boolean array that is `True` for the empty cells."
   ]
  },
  {
   "cell_type": "code",
   "execution_count": 6,
   "metadata": {},
   "outputs": [],
   "source": [
    "empty = (grid==0)\n",
    "empty.sum()"
   ]
  },
  {
   "cell_type": "markdown",
   "metadata": {},
   "source": [
    "To find the unhappy agents, we have to compute the number of same-color neighbors for each agent.  We'll do that using 2-D correlation.\n",
    "\n",
    "As an example, we can compute the number of empty neighbors for each cell."
   ]
  },
  {
   "cell_type": "code",
   "execution_count": 7,
   "metadata": {},
   "outputs": [],
   "source": [
    "from scipy.signal import correlate2d\n",
    "\n",
    "kernel = np.array([[1, 1, 1],\n",
    "                   [1, 0, 1],\n",
    "                   [1, 1, 1]], dtype=np.int8)\n",
    "\n",
    "options = dict(mode='same', boundary='wrap')\n",
    "\n",
    "correlate2d(empty, kernel, **options)"
   ]
  },
  {
   "cell_type": "markdown",
   "metadata": {},
   "source": [
    "The following function computes the number of same-color neighbors for each agent."
   ]
  },
  {
   "cell_type": "code",
   "execution_count": 8,
   "metadata": {},
   "outputs": [],
   "source": [
    "def compute_num_same(grid):\n",
    "    \"\"\"For each cell, the number of same-color neighbors.\n",
    "    \n",
    "    grip: NumPy array\n",
    "    \n",
    "    return: new NumPy array\n",
    "    \"\"\"\n",
    "\n",
    "    red = grid==1\n",
    "    blue = grid==2\n",
    "\n",
    "    # count red neighbors, blue neighbors, and total\n",
    "    num_red = correlate2d(red, kernel, **options)\n",
    "    num_blue = correlate2d(blue, kernel, **options)\n",
    "\n",
    "    num_same = np.where(red, num_red, num_blue)\n",
    "    \n",
    "    return num_same"
   ]
  },
  {
   "cell_type": "markdown",
   "metadata": {},
   "source": [
    "Here's what that looks like for the initial grid."
   ]
  },
  {
   "cell_type": "code",
   "execution_count": 9,
   "metadata": {},
   "outputs": [],
   "source": [
    "# for each cell, compute the fraction of neighbors with the same color\n",
    "num_same = compute_num_same(grid)\n",
    "num_same"
   ]
  },
  {
   "cell_type": "markdown",
   "metadata": {},
   "source": [
    "The mean of this array measures the average level of segregation."
   ]
  },
  {
   "cell_type": "code",
   "execution_count": 10,
   "metadata": {},
   "outputs": [],
   "source": [
    "num_same.mean()"
   ]
  },
  {
   "cell_type": "markdown",
   "metadata": {},
   "source": [
    "`locs_where` is a wrapper on `np.nonzero` that returns a list of pairs, where each pair is the coordinate of an agent that meets a `condition`."
   ]
  },
  {
   "cell_type": "code",
   "execution_count": 11,
   "metadata": {},
   "outputs": [],
   "source": [
    "def locs_where(condition):\n",
    "    \"\"\"Find cells where a boolean array is True.\n",
    "    \n",
    "    condition: NumPy array\n",
    "    \n",
    "    return: list of coordinate pairs\n",
    "    \"\"\"\n",
    "    nonzero = np.nonzero(condition)\n",
    "    return list(zip(*nonzero))"
   ]
  },
  {
   "cell_type": "markdown",
   "metadata": {},
   "source": [
    "An agent is \"unhappy\" if they have fewer than 3 same-color neighbors.\n",
    "\n",
    "Here are the locations of the unhappy agents."
   ]
  },
  {
   "cell_type": "code",
   "execution_count": 12,
   "metadata": {},
   "outputs": [],
   "source": [
    "threshold = 3\n",
    "\n",
    "unhappy_locs = locs_where(num_same < threshold)\n",
    "unhappy_locs"
   ]
  },
  {
   "cell_type": "markdown",
   "metadata": {},
   "source": [
    "During each time step, we'll choose a random unhappy agent.\n",
    "\n",
    "The following function chooses a random tuple from a list."
   ]
  },
  {
   "cell_type": "code",
   "execution_count": 13,
   "metadata": {},
   "outputs": [],
   "source": [
    "def random_loc(locs):\n",
    "    \"\"\"Choose a random element from a list of tuples.\n",
    "    \n",
    "    locs: list of tuples\n",
    "    \n",
    "    return: tuple\n",
    "    \"\"\"\n",
    "    index = np.random.choice(len(locs))\n",
    "    return locs[index]"
   ]
  },
  {
   "cell_type": "markdown",
   "metadata": {},
   "source": [
    "`source` is the random unhappy agent who decides to move."
   ]
  },
  {
   "cell_type": "code",
   "execution_count": 14,
   "metadata": {},
   "outputs": [],
   "source": [
    "source = random_loc(unhappy_locs)\n",
    "source"
   ]
  },
  {
   "cell_type": "markdown",
   "metadata": {},
   "source": [
    "`dest` is the random empty cell they choose to move to."
   ]
  },
  {
   "cell_type": "code",
   "execution_count": 15,
   "metadata": {},
   "outputs": [],
   "source": [
    "empty_locs = locs_where(empty)\n",
    "dest = random_loc(empty_locs)\n",
    "dest"
   ]
  },
  {
   "cell_type": "markdown",
   "metadata": {},
   "source": [
    "The following function swaps `source` and `dest`."
   ]
  },
  {
   "cell_type": "code",
   "execution_count": 16,
   "metadata": {},
   "outputs": [],
   "source": [
    "def move(grid, source, dest):\n",
    "    grid[dest], grid[source] = grid[source], grid[dest]"
   ]
  },
  {
   "cell_type": "code",
   "execution_count": 17,
   "metadata": {},
   "outputs": [],
   "source": [
    "move(grid, source, dest)"
   ]
  },
  {
   "cell_type": "markdown",
   "metadata": {},
   "source": [
    "**Exercise:** Pull the code from the previous cells into a function that chooses an unhappy agent and moves them to a random empty cell.  It should compute and return the mean of `num_same`.\n",
    "\n",
    "Note: If there are no unhappy cells, `step` should do nothing."
   ]
  },
  {
   "cell_type": "code",
   "execution_count": 18,
   "metadata": {},
   "outputs": [],
   "source": [
    "def step(grid, threshold=3):\n",
    "    \"\"\"Simulate one time step.\n",
    "    \n",
    "    grid: NumPy array\n",
    "    threshold: number of same-color neighbors needed to be happy\n",
    "\n",
    "    return: average number of same-color neighbors\n",
    "    \"\"\"\n",
    "    num_same = compute_num_same(grid)\n",
    "\n",
    "    # FILL THIS IN!\n",
    "    \n",
    "    return num_same.mean()"
   ]
  },
  {
   "cell_type": "code",
   "execution_count": 19,
   "metadata": {},
   "outputs": [],
   "source": [
    "# Solution goes here"
   ]
  },
  {
   "cell_type": "markdown",
   "metadata": {},
   "source": [
    "Test your step function here."
   ]
  },
  {
   "cell_type": "code",
   "execution_count": 20,
   "metadata": {},
   "outputs": [],
   "source": [
    "step(grid)"
   ]
  },
  {
   "cell_type": "markdown",
   "metadata": {},
   "source": [
    "Then run the following cells to see how segregation changes over time."
   ]
  },
  {
   "cell_type": "code",
   "execution_count": 21,
   "metadata": {},
   "outputs": [],
   "source": [
    "def decorate_seg():\n",
    "    decorate(xlabel='Number of steps',\n",
    "             ylabel='Average number of same-color neighbors',\n",
    "             title='Schelling model')"
   ]
  },
  {
   "cell_type": "code",
   "execution_count": 55,
   "metadata": {},
   "outputs": [],
   "source": [
    "grid = make_grid(n=10)\n",
    "segs = [step(grid) for i in range(200)]\n",
    "plt.plot(segs)\n",
    "decorate_seg()"
   ]
  },
  {
   "cell_type": "markdown",
   "metadata": {},
   "source": [
    "**Exercise:** Experiment with different values of `threshold` and see what effect they have on the result."
   ]
  },
  {
   "cell_type": "markdown",
   "metadata": {},
   "source": [
    "### Bigger grid\n",
    "\n",
    "Let's see how that looks on a bigger grid."
   ]
  },
  {
   "cell_type": "code",
   "execution_count": 23,
   "metadata": {},
   "outputs": [],
   "source": [
    "grid = make_grid(n=50)\n",
    "im = draw(grid)"
   ]
  },
  {
   "cell_type": "code",
   "execution_count": 24,
   "metadata": {},
   "outputs": [],
   "source": [
    "segs = [step(grid, threshold=3) for i in range(3000)]"
   ]
  },
  {
   "cell_type": "code",
   "execution_count": 25,
   "metadata": {},
   "outputs": [],
   "source": [
    "plt.plot(segs)\n",
    "decorate_seg()"
   ]
  },
  {
   "cell_type": "code",
   "execution_count": 26,
   "metadata": {},
   "outputs": [],
   "source": [
    "im = draw(grid)"
   ]
  },
  {
   "cell_type": "markdown",
   "metadata": {},
   "source": [
    "The following figure shows three steps in the evolution of the grid."
   ]
  },
  {
   "cell_type": "code",
   "execution_count": 27,
   "metadata": {},
   "outputs": [],
   "source": [
    "np.random.seed(17)\n",
    "\n",
    "grid = make_grid(n=50)\n",
    "\n",
    "# draw the initial grid\n",
    "plt.figure(figsize=(9,3))\n",
    "plt.subplot(1,3,1)\n",
    "draw(grid)\n",
    "\n",
    "# first update\n",
    "plt.subplot(1,3,2)\n",
    "for i in range(1000):\n",
    "    step(grid)\n",
    "draw(grid)\n",
    "\n",
    "# second update\n",
    "plt.subplot(1,3,3)\n",
    "for i in range(1000):\n",
    "    step(grid)\n",
    "draw(grid)\n",
    "\n",
    "plt.tight_layout()"
   ]
  },
  {
   "cell_type": "markdown",
   "metadata": {},
   "source": [
    "**Exercise:** One more time, try out different values of `threshold`.  What value yields the biggest difference between `threshold` and the average number of same-color neighbors?"
   ]
  },
  {
   "cell_type": "markdown",
   "metadata": {},
   "source": [
    "### Animation\n",
    "\n",
    "The following functions animate the evolution of the grid."
   ]
  },
  {
   "cell_type": "code",
   "execution_count": 28,
   "metadata": {},
   "outputs": [],
   "source": [
    "def animate_func(i):\n",
    "    \"\"\"Draws one frame of the animation.\"\"\"\n",
    "    for i in range(20):\n",
    "        step(grid)\n",
    "    \n",
    "    im.set_array(grid)\n",
    "    return (im,)"
   ]
  },
  {
   "cell_type": "code",
   "execution_count": 29,
   "metadata": {},
   "outputs": [],
   "source": [
    "\n",
    "def animate(grid, frames=100, interval=100):\n",
    "    \"\"\"Creates an animation.\n",
    "\n",
    "    frames: number of frames to draw\n",
    "    interval: time between frames in ms\n",
    "    \"\"\"\n",
    "    global im\n",
    "    fig = plt.gcf()\n",
    "    im = draw(grid)\n",
    "    return FuncAnimation(fig, animate_func,\n",
    "                         frames=frames,\n",
    "                         interval=interval)"
   ]
  },
  {
   "cell_type": "code",
   "execution_count": 30,
   "metadata": {},
   "outputs": [],
   "source": [
    "grid = make_grid(n=50)\n",
    "anim = animate(grid)"
   ]
  },
  {
   "cell_type": "code",
   "execution_count": 31,
   "metadata": {},
   "outputs": [],
   "source": [
    "anim"
   ]
  },
  {
   "cell_type": "markdown",
   "metadata": {},
   "source": [
    "**Exercise:** Experiment with different starting conditions: for example, more or fewer empty cells, or unequal numbers of red and blue agents."
   ]
  },
  {
   "cell_type": "markdown",
   "metadata": {},
   "source": [
    "# The Big Sort"
   ]
  },
  {
   "cell_type": "markdown",
   "metadata": {},
   "source": [
    "Bill Bishop, author of *The Big Sort*, argues that\n",
    "American society is increasingly segregated by political\n",
    "opinion, as people choose to live among like-minded neighbors.\n",
    "\n",
    "The mechanism Bishop hypothesizes is not that people, like the agents\n",
    "in Schelling's model, are more likely to move if they are\n",
    "isolated, but that when they move for any reason, they are\n",
    "likely to choose a neighborhood with people like themselves.\n",
    "\n",
    "Let's write a version of Schelling's model to simulate\n",
    "this kind of behavior and see if it yields similar degrees of\n",
    "segregation.\n",
    "\n",
    "We'll start with a random initial grid."
   ]
  },
  {
   "cell_type": "code",
   "execution_count": 32,
   "metadata": {},
   "outputs": [],
   "source": [
    "grid = make_grid(n=10)\n",
    "im = draw(grid)"
   ]
  },
  {
   "cell_type": "markdown",
   "metadata": {},
   "source": [
    "Write a few lines of code to choose a random occupied location, and call it `source`."
   ]
  },
  {
   "cell_type": "code",
   "execution_count": 33,
   "metadata": {},
   "outputs": [],
   "source": [
    "empty = (grid==0)\n",
    "empty_locs = locs_where(empty)\n",
    "empty_locs"
   ]
  },
  {
   "cell_type": "code",
   "execution_count": 34,
   "metadata": {},
   "outputs": [],
   "source": [
    "full_locs = locs_where(~empty)"
   ]
  },
  {
   "cell_type": "code",
   "execution_count": 35,
   "metadata": {},
   "outputs": [],
   "source": [
    "source = random_loc(full_locs)\n",
    "source"
   ]
  },
  {
   "cell_type": "markdown",
   "metadata": {},
   "source": [
    "Here's a list of random empty locations the `source` agent could move to."
   ]
  },
  {
   "cell_type": "code",
   "execution_count": 36,
   "metadata": {},
   "outputs": [],
   "source": [
    "num_comps = 2\n",
    "dests = [random_loc(empty_locs) for i in range(num_comps)]\n",
    "dests"
   ]
  },
  {
   "cell_type": "markdown",
   "metadata": {},
   "source": [
    "The following cell computes the number of neighbors in each location that are the same color as `source`."
   ]
  },
  {
   "cell_type": "code",
   "execution_count": 37,
   "metadata": {},
   "outputs": [],
   "source": [
    "same_color = (grid==grid[source])\n",
    "\n",
    "num_same = correlate2d(same_color, kernel, **options)\n",
    "num_same"
   ]
  },
  {
   "cell_type": "markdown",
   "metadata": {},
   "source": [
    "Now we can make a list with one tuple per destination, where the first element in each tuple is the number of same-color neighbors."
   ]
  },
  {
   "cell_type": "code",
   "execution_count": 38,
   "metadata": {},
   "outputs": [],
   "source": [
    "choices = [(num_same[dest], np.random.random(), dest) for dest in dests]\n",
    "\n",
    "for choice in choices:\n",
    "    print(choice)"
   ]
  },
  {
   "cell_type": "markdown",
   "metadata": {},
   "source": [
    "Using the `max` function, we get the location with the highest number of same-color neighbors, with ties broken at random."
   ]
  },
  {
   "cell_type": "code",
   "execution_count": 39,
   "metadata": {},
   "outputs": [],
   "source": [
    "num, rand, dest = max(choices)\n",
    "num, rand, dest"
   ]
  },
  {
   "cell_type": "code",
   "execution_count": 40,
   "metadata": {},
   "outputs": [],
   "source": [
    "move(grid, source, dest)"
   ]
  },
  {
   "cell_type": "markdown",
   "metadata": {},
   "source": [
    "Now pull all of that code into a step function."
   ]
  },
  {
   "cell_type": "code",
   "execution_count": 41,
   "metadata": {},
   "outputs": [],
   "source": [
    "def step(grid, num_comps=2):\n",
    "    \"\"\"Simulate one time step.\n",
    "    \n",
    "    grid: NumPy array\n",
    "    num_comps: number of possible destinations the agent looks at\n",
    "    \n",
    "    return: average number of same-color neighbors\n",
    "    \"\"\"\n",
    "    # FILL THIS IN\n",
    "\n",
    "    return compute_num_same(grid).mean()"
   ]
  },
  {
   "cell_type": "code",
   "execution_count": 42,
   "metadata": {},
   "outputs": [],
   "source": [
    "# Solution goes here"
   ]
  },
  {
   "cell_type": "code",
   "execution_count": 43,
   "metadata": {},
   "outputs": [],
   "source": [
    "step(grid)"
   ]
  },
  {
   "cell_type": "code",
   "execution_count": 44,
   "metadata": {},
   "outputs": [],
   "source": [
    "grid = make_grid(n=10)\n",
    "segs = [step(grid) for i in range(200)]\n",
    "plt.plot(segs)\n",
    "decorate_seg()"
   ]
  },
  {
   "cell_type": "markdown",
   "metadata": {},
   "source": [
    "**Exercise:** Experiment with different values of `num_comps` and see what effect they have on the result."
   ]
  },
  {
   "cell_type": "markdown",
   "metadata": {},
   "source": [
    "### Bigger grid\n",
    "\n",
    "Let's see how that looks on a bigger grid."
   ]
  },
  {
   "cell_type": "code",
   "execution_count": 45,
   "metadata": {},
   "outputs": [],
   "source": [
    "grid = make_grid(n=50)\n",
    "im = draw(grid)"
   ]
  },
  {
   "cell_type": "code",
   "execution_count": 46,
   "metadata": {},
   "outputs": [],
   "source": [
    "segs = [step(grid) for i in range(2000)]"
   ]
  },
  {
   "cell_type": "code",
   "execution_count": 47,
   "metadata": {},
   "outputs": [],
   "source": [
    "plt.plot(segs)\n",
    "decorate_seg()"
   ]
  },
  {
   "cell_type": "code",
   "execution_count": 48,
   "metadata": {},
   "outputs": [],
   "source": [
    "im = draw(grid)"
   ]
  },
  {
   "cell_type": "markdown",
   "metadata": {},
   "source": [
    "The following figure shows three steps in the evolution of the grid."
   ]
  },
  {
   "cell_type": "code",
   "execution_count": 49,
   "metadata": {},
   "outputs": [],
   "source": [
    "np.random.seed(17)\n",
    "\n",
    "grid = make_grid(n=50)\n",
    "\n",
    "# draw the initial grid\n",
    "plt.figure(figsize=(9,3))\n",
    "plt.subplot(1,3,1)\n",
    "draw(grid)\n",
    "\n",
    "# first update\n",
    "plt.subplot(1,3,2)\n",
    "for i in range(1000):\n",
    "    step(grid)\n",
    "draw(grid)\n",
    "\n",
    "# second update\n",
    "plt.subplot(1,3,3)\n",
    "for i in range(1000):\n",
    "    step(grid)\n",
    "draw(grid)\n",
    "\n",
    "plt.tight_layout()"
   ]
  },
  {
   "cell_type": "markdown",
   "metadata": {},
   "source": [
    "**Exercise:** One more time, try out different values of `num_comps`."
   ]
  },
  {
   "cell_type": "markdown",
   "metadata": {},
   "source": [
    "### Animation\n",
    "\n",
    "Let's see what the animation looks like."
   ]
  },
  {
   "cell_type": "code",
   "execution_count": 50,
   "metadata": {},
   "outputs": [],
   "source": [
    "grid = make_grid(n=50)\n",
    "anim = animate(grid)"
   ]
  },
  {
   "cell_type": "code",
   "execution_count": 51,
   "metadata": {},
   "outputs": [],
   "source": [
    "anim"
   ]
  }
 ],
 "metadata": {
  "kernelspec": {
   "display_name": "Python 3",
   "language": "python",
   "name": "python3"
  },
  "language_info": {
   "codemirror_mode": {
    "name": "ipython",
    "version": 3
   },
   "file_extension": ".py",
   "mimetype": "text/x-python",
   "name": "python",
   "nbconvert_exporter": "python",
   "pygments_lexer": "ipython3",
   "version": "3.7.3"
  }
 },
 "nbformat": 4,
 "nbformat_minor": 2
}

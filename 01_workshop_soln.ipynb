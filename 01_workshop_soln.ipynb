{
 "cells": [
  {
   "cell_type": "markdown",
   "metadata": {},
   "source": [
    "# Agent Based Models of Segregation\n",
    "\n",
    "Code examples from [Think Complexity, 2nd edition](https://thinkcomplex.com).\n",
    "\n",
    "Copyright 2019 Allen Downey, [MIT License](http://opensource.org/licenses/MIT)"
   ]
  },
  {
   "cell_type": "code",
   "execution_count": 1,
   "metadata": {},
   "outputs": [],
   "source": [
    "%matplotlib inline\n",
    "\n",
    "import numpy as np\n",
    "import matplotlib.pyplot as plt\n",
    "import seaborn as sns\n",
    "\n",
    "from utils import decorate"
   ]
  },
  {
   "cell_type": "markdown",
   "metadata": {},
   "source": [
    "## Schelling's model"
   ]
  },
  {
   "cell_type": "markdown",
   "metadata": {},
   "source": [
    "In 1969 Thomas Schelling published \"[Models of Segregation](http://thinkcomplex.com/schell),\n",
    "which proposed a simple model of racial segregation.\n",
    "\n",
    "The Schelling model is a grid where each cell represents a house.  The houses are occupied by two kinds of agents,\n",
    "labeled red and blue, in roughly equal numbers.  About 10% of the\n",
    "houses are empty.\n",
    "\n",
    "At any point in time, an agent might be happy or unhappy, depending\n",
    "on the other agents in the neighborhood, where the\n",
    "\"neighborhood\" of each house is the set of eight adjacent cells.\n",
    "\n",
    "In one version of the model, agents are happy if they have at least\n",
    "three neighbors like themselves, and unhappy if they have fewer than three.\n",
    "\n",
    "The simulation proceeds by choosing an agent at random and checking\n",
    "to see whether they are happy.  If so, nothing happens; if not,\n",
    "the agent chooses one of the unoccupied cells at random and moves.\n",
    "\n",
    "You will not be surprised to hear that this model leads to some\n",
    "segregation, but you might be surprised by the degree.  \n",
    "\n",
    "### Implementing the model\n",
    "\n",
    "We will explore Schelling's model by implementing it in Python.  The following\n",
    "function initializes the grid."
   ]
  },
  {
   "cell_type": "code",
   "execution_count": 2,
   "metadata": {},
   "outputs": [],
   "source": [
    "def make_grid(n):\n",
    "    \"\"\"Make an array with two types of agents.\n",
    "    \n",
    "    n: width and height of the array\n",
    "    \n",
    "    return: NumPy array\n",
    "    \"\"\"\n",
    "    choices = np.array([0, 1, 2], dtype=np.int8)\n",
    "    probs = [0.1, 0.45, 0.45]\n",
    "    return np.random.choice(choices, (n, n), p=probs)"
   ]
  },
  {
   "cell_type": "code",
   "execution_count": 3,
   "metadata": {},
   "outputs": [
    {
     "data": {
      "text/plain": [
       "array([[2, 1, 2, 1, 1, 1, 2, 1, 1, 2],\n",
       "       [2, 1, 2, 1, 1, 1, 1, 2, 2, 2],\n",
       "       [2, 0, 1, 2, 2, 2, 2, 1, 2, 1],\n",
       "       [2, 1, 1, 2, 1, 1, 1, 1, 2, 2],\n",
       "       [1, 2, 1, 1, 1, 1, 2, 1, 1, 2],\n",
       "       [1, 1, 2, 2, 1, 1, 1, 1, 1, 2],\n",
       "       [1, 0, 2, 2, 2, 1, 2, 1, 2, 2],\n",
       "       [1, 2, 2, 2, 1, 1, 2, 1, 2, 1],\n",
       "       [1, 2, 0, 0, 0, 1, 0, 2, 1, 1],\n",
       "       [1, 0, 2, 2, 2, 1, 2, 2, 1, 1]], dtype=int8)"
      ]
     },
     "execution_count": 3,
     "metadata": {},
     "output_type": "execute_result"
    }
   ],
   "source": [
    "grid = make_grid(n=10)\n",
    "grid"
   ]
  },
  {
   "cell_type": "markdown",
   "metadata": {},
   "source": [
    "The following function plots a visualization the grid."
   ]
  },
  {
   "cell_type": "code",
   "execution_count": 4,
   "metadata": {},
   "outputs": [],
   "source": [
    "from matplotlib.colors import LinearSegmentedColormap\n",
    "\n",
    "# make a custom color map\n",
    "palette = sns.color_palette('muted')\n",
    "colors = 'white', palette[1], palette[0]\n",
    "cmap = LinearSegmentedColormap.from_list('cmap', colors)\n",
    "\n",
    "def draw(grid):\n",
    "    \"\"\"Draws the grid.\n",
    "    \n",
    "    grid: NumPy array\n",
    "    \"\"\"\n",
    "    # Make a copy because some implementations\n",
    "    # of step perform updates in place.\n",
    "    a = grid.copy()\n",
    "    n, m = a.shape\n",
    "    plt.axis([0, m, 0, n])\n",
    "    plt.xticks([])\n",
    "    plt.yticks([])\n",
    "\n",
    "    options = dict(interpolation='none', alpha=0.8)\n",
    "    options['extent'] = [0, m, 0, n]\n",
    "    return plt.imshow(a, cmap, **options)"
   ]
  },
  {
   "cell_type": "markdown",
   "metadata": {},
   "source": [
    "Here's what the random initial condition looks like."
   ]
  },
  {
   "cell_type": "code",
   "execution_count": 5,
   "metadata": {},
   "outputs": [
    {
     "data": {
      "image/png": "[encoded data removed]",
      "text/plain": [
       "<Figure size 432x288 with 1 Axes>"
      ]
     },
     "metadata": {},
     "output_type": "display_data"
    }
   ],
   "source": [
    "im = draw(grid)"
   ]
  },
  {
   "cell_type": "markdown",
   "metadata": {},
   "source": [
    "### The step function\n",
    "\n",
    "To simulate a time step in Schelling's model, we have to\n",
    "\n",
    "1) Choose and unhappy agent.\n",
    "2) Choose a random empty cell.\n",
    "3) Move the agent.\n",
    "\n",
    "The next few cells develop the functions we'll need.  As an exercise, you will assemble them into a `step` function.\n",
    "\n",
    "First I'll compute `empty`, which is a boolean array that is `True` for the empty cells."
   ]
  },
  {
   "cell_type": "code",
   "execution_count": 6,
   "metadata": {},
   "outputs": [
    {
     "data": {
      "text/plain": [
       "7"
      ]
     },
     "execution_count": 6,
     "metadata": {},
     "output_type": "execute_result"
    }
   ],
   "source": [
    "empty = (grid==0)\n",
    "empty.sum()"
   ]
  },
  {
   "cell_type": "markdown",
   "metadata": {},
   "source": [
    "To find the unhappy agents, we have to compute the number of same-color neighbors for each agent.  We'll do that using 2-D correlation.\n",
    "\n",
    "As an example, we can compute the number of empty neighbors for each cell."
   ]
  },
  {
   "cell_type": "code",
   "execution_count": 7,
   "metadata": {},
   "outputs": [
    {
     "data": {
      "text/plain": [
       "array([[1, 1, 1, 0, 0, 0, 0, 0, 0, 0],\n",
       "       [1, 1, 1, 0, 0, 0, 0, 0, 0, 0],\n",
       "       [1, 0, 1, 0, 0, 0, 0, 0, 0, 0],\n",
       "       [1, 1, 1, 0, 0, 0, 0, 0, 0, 0],\n",
       "       [0, 0, 0, 0, 0, 0, 0, 0, 0, 0],\n",
       "       [1, 1, 1, 0, 0, 0, 0, 0, 0, 0],\n",
       "       [1, 0, 1, 0, 0, 0, 0, 0, 0, 0],\n",
       "       [1, 2, 3, 3, 2, 2, 1, 1, 0, 0],\n",
       "       [1, 2, 2, 2, 1, 2, 0, 1, 0, 0],\n",
       "       [1, 1, 3, 3, 2, 2, 1, 1, 0, 0]], dtype=int8)"
      ]
     },
     "execution_count": 7,
     "metadata": {},
     "output_type": "execute_result"
    }
   ],
   "source": [
    "from scipy.signal import correlate2d\n",
    "\n",
    "kernel = np.array([[1, 1, 1],\n",
    "                   [1, 0, 1],\n",
    "                   [1, 1, 1]], dtype=np.int8)\n",
    "\n",
    "options = dict(mode='same', boundary='wrap')\n",
    "\n",
    "correlate2d(empty, kernel, **options)"
   ]
  },
  {
   "cell_type": "markdown",
   "metadata": {},
   "source": [
    "The following function computes the number of same-color neighbors for each agent."
   ]
  },
  {
   "cell_type": "code",
   "execution_count": 8,
   "metadata": {},
   "outputs": [],
   "source": [
    "def compute_num_same(grid):\n",
    "    \"\"\"For each cell, the number of same-color neighbors.\n",
    "    \n",
    "    grip: NumPy array\n",
    "    \n",
    "    return: new NumPy array\n",
    "    \"\"\"\n",
    "\n",
    "    red = grid==1\n",
    "    blue = grid==2\n",
    "\n",
    "    # count red neighbors, blue neighbors, and total\n",
    "    num_red = correlate2d(red, kernel, **options)\n",
    "    num_blue = correlate2d(blue, kernel, **options)\n",
    "\n",
    "    num_same = np.where(red, num_red, num_blue)\n",
    "    \n",
    "    return num_same"
   ]
  },
  {
   "cell_type": "markdown",
   "metadata": {},
   "source": [
    "Here's what that looks like for the initial grid."
   ]
  },
  {
   "cell_type": "code",
   "execution_count": 9,
   "metadata": {},
   "outputs": [
    {
     "data": {
      "text/plain": [
       "array([[3, 2, 3, 3, 6, 5, 3, 3, 3, 4],\n",
       "       [4, 2, 2, 4, 5, 4, 4, 4, 4, 6],\n",
       "       [4, 4, 4, 3, 3, 2, 2, 3, 5, 0],\n",
       "       [4, 4, 4, 2, 4, 4, 5, 4, 3, 5],\n",
       "       [3, 2, 4, 5, 6, 7, 0, 6, 4, 4],\n",
       "       [3, 4, 4, 4, 5, 5, 6, 5, 4, 3],\n",
       "       [4, 4, 6, 6, 3, 5, 1, 4, 3, 3],\n",
       "       [4, 3, 5, 4, 3, 3, 2, 2, 3, 5],\n",
       "       [5, 3, 6, 5, 3, 3, 4, 4, 5, 7],\n",
       "       [4, 4, 3, 3, 1, 3, 3, 3, 5, 6]], dtype=int8)"
      ]
     },
     "execution_count": 9,
     "metadata": {},
     "output_type": "execute_result"
    }
   ],
   "source": [
    "# for each cell, compute the fraction of neighbors with the same color\n",
    "num_same = compute_num_same(grid)\n",
    "num_same"
   ]
  },
  {
   "cell_type": "markdown",
   "metadata": {},
   "source": [
    "The mean of this array measures the average level of segregation."
   ]
  },
  {
   "cell_type": "code",
   "execution_count": 10,
   "metadata": {},
   "outputs": [
    {
     "data": {
      "text/plain": [
       "3.8"
      ]
     },
     "execution_count": 10,
     "metadata": {},
     "output_type": "execute_result"
    }
   ],
   "source": [
    "num_same.mean()"
   ]
  },
  {
   "cell_type": "markdown",
   "metadata": {},
   "source": [
    "`locs_where` is a wrapper on `np.nonzero` that returns a list of pairs, where each pair is the coordinate of an agent that meets a `condition`."
   ]
  },
  {
   "cell_type": "code",
   "execution_count": 11,
   "metadata": {},
   "outputs": [],
   "source": [
    "def locs_where(condition):\n",
    "    \"\"\"Find cells where a boolean array is True.\n",
    "    \n",
    "    condition: NumPy array\n",
    "    \n",
    "    return: list of coordinate pairs\n",
    "    \"\"\"\n",
    "    ii, jj = np.nonzero(condition)\n",
    "    return list(zip(ii, jj))"
   ]
  },
  {
   "cell_type": "markdown",
   "metadata": {},
   "source": [
    "An agent is \"unhappy\" if they have fewer than 3 same-color neighbors.\n",
    "\n",
    "Here are the locations of the unhappy agents."
   ]
  },
  {
   "cell_type": "code",
   "execution_count": 12,
   "metadata": {},
   "outputs": [
    {
     "data": {
      "text/plain": [
       "[(0, 1),\n",
       " (1, 1),\n",
       " (1, 2),\n",
       " (2, 5),\n",
       " (2, 6),\n",
       " (2, 9),\n",
       " (3, 3),\n",
       " (4, 1),\n",
       " (4, 6),\n",
       " (6, 6),\n",
       " (7, 6),\n",
       " (7, 7),\n",
       " (9, 4)]"
      ]
     },
     "execution_count": 12,
     "metadata": {},
     "output_type": "execute_result"
    }
   ],
   "source": [
    "threshold = 3\n",
    "\n",
    "unhappy_locs = locs_where(num_same < threshold)\n",
    "unhappy_locs"
   ]
  },
  {
   "cell_type": "markdown",
   "metadata": {},
   "source": [
    "During each time step, we'll choose a random unhappy agent.\n",
    "\n",
    "The following function chooses a random tuple from a list."
   ]
  },
  {
   "cell_type": "code",
   "execution_count": 13,
   "metadata": {},
   "outputs": [],
   "source": [
    "def random_loc(locs):\n",
    "    \"\"\"Choose a random element from a list of tuples.\n",
    "    \n",
    "    locs: list of tuples\n",
    "    \n",
    "    return: tuple\n",
    "    \"\"\"\n",
    "    index = np.random.choice(len(locs))\n",
    "    return locs[index]"
   ]
  },
  {
   "cell_type": "markdown",
   "metadata": {},
   "source": [
    "`source` is the random unhappy agent who decides to move."
   ]
  },
  {
   "cell_type": "code",
   "execution_count": 14,
   "metadata": {},
   "outputs": [
    {
     "data": {
      "text/plain": [
       "(0, 1)"
      ]
     },
     "execution_count": 14,
     "metadata": {},
     "output_type": "execute_result"
    }
   ],
   "source": [
    "source = random_loc(unhappy_locs)\n",
    "source"
   ]
  },
  {
   "cell_type": "markdown",
   "metadata": {},
   "source": [
    "`dest` is the random empty cell they choose to move to."
   ]
  },
  {
   "cell_type": "code",
   "execution_count": 15,
   "metadata": {},
   "outputs": [
    {
     "data": {
      "text/plain": [
       "(8, 3)"
      ]
     },
     "execution_count": 15,
     "metadata": {},
     "output_type": "execute_result"
    }
   ],
   "source": [
    "empty_locs = locs_where(empty)\n",
    "dest = random_loc(empty_locs)\n",
    "dest"
   ]
  },
  {
   "cell_type": "markdown",
   "metadata": {},
   "source": [
    "The following function swaps `source` and `dest`."
   ]
  },
  {
   "cell_type": "code",
   "execution_count": 16,
   "metadata": {},
   "outputs": [],
   "source": [
    "def move(grid, source, dest):\n",
    "    \"\"\"Swap the agents at source and dest.\n",
    "    \n",
    "    grip: NumPy array\n",
    "    source: location tuple\n",
    "    dest: location tuple\n",
    "    \"\"\"\n",
    "    grid[dest], grid[source] = grid[source], grid[dest]"
   ]
  },
  {
   "cell_type": "code",
   "execution_count": 17,
   "metadata": {},
   "outputs": [],
   "source": [
    "move(grid, source, dest)"
   ]
  },
  {
   "cell_type": "markdown",
   "metadata": {},
   "source": [
    "**Exercise:** Pull the code from the previous cells into a function that chooses an unhappy agent and moves them to a random empty cell.  It should compute and return the mean of `num_same`.\n",
    "\n",
    "Note: If there are no unhappy cells, `step` should do nothing."
   ]
  },
  {
   "cell_type": "code",
   "execution_count": 18,
   "metadata": {},
   "outputs": [],
   "source": [
    "def step(grid, threshold=3):\n",
    "    \"\"\"Simulate one time step.\n",
    "    \n",
    "    grid: NumPy array\n",
    "    threshold: number of same-color neighbors needed to be happy\n",
    "\n",
    "    return: average number of same-color neighbors\n",
    "    \"\"\"\n",
    "    num_same = compute_num_same(grid)\n",
    "\n",
    "    # FILL THIS IN!\n",
    "    \n",
    "    return num_same.mean()"
   ]
  },
  {
   "cell_type": "code",
   "execution_count": 19,
   "metadata": {},
   "outputs": [],
   "source": [
    "# Solution\n",
    "\n",
    "def step(grid, threshold=3):\n",
    "    \"\"\"Simulate one time step.\n",
    "    \n",
    "    grid: NumPy array\n",
    "    threshold: number of same-color neighbors needed to be happy\n",
    "\n",
    "    return: average number of same-color neighbors\n",
    "    \"\"\"\n",
    "    num_same = compute_num_same(grid)\n",
    "    unhappy_locs = locs_where(num_same < threshold)\n",
    "\n",
    "    if len(unhappy_locs):\n",
    "        source = random_loc(unhappy_locs)\n",
    "        empty_locs = locs_where(grid==0)\n",
    "        dest = random_loc(empty_locs)\n",
    "        move(grid, source, dest)\n",
    "    return num_same.mean()"
   ]
  },
  {
   "cell_type": "markdown",
   "metadata": {},
   "source": [
    "Test your step function here."
   ]
  },
  {
   "cell_type": "code",
   "execution_count": 20,
   "metadata": {},
   "outputs": [
    {
     "data": {
      "text/plain": [
       "3.78"
      ]
     },
     "execution_count": 20,
     "metadata": {},
     "output_type": "execute_result"
    }
   ],
   "source": [
    "step(grid)"
   ]
  },
  {
   "cell_type": "markdown",
   "metadata": {},
   "source": [
    "Then run the following cells to see how segregation changes over time."
   ]
  },
  {
   "cell_type": "code",
   "execution_count": 21,
   "metadata": {},
   "outputs": [],
   "source": [
    "def decorate_seg():\n",
    "    decorate(xlabel='Number of steps',\n",
    "             ylabel='Average number of same-color neighbors',\n",
    "             title='Schelling model')"
   ]
  },
  {
   "cell_type": "code",
   "execution_count": 22,
   "metadata": {},
   "outputs": [
    {
     "data": {
      "image/png": "[encoded data removed]",
      "text/plain": [
       "<Figure size 432x288 with 1 Axes>"
      ]
     },
     "metadata": {
      "needs_background": "light"
     },
     "output_type": "display_data"
    }
   ],
   "source": [
    "grid = make_grid(n=10)\n",
    "segs = [step(grid) for i in range(200)]\n",
    "plt.plot(segs)\n",
    "decorate_seg()"
   ]
  },
  {
   "cell_type": "markdown",
   "metadata": {},
   "source": [
    "**Exercise:** Experiment with different values of `threshold` and see what effect they have on the result."
   ]
  },
  {
   "cell_type": "markdown",
   "metadata": {},
   "source": [
    "### Bigger grid\n",
    "\n",
    "Let's see how that looks on a bigger grid."
   ]
  },
  {
   "cell_type": "code",
   "execution_count": 23,
   "metadata": {},
   "outputs": [
    {
     "data": {
      "image/png": "[encoded data removed]",
      "text/plain": [
       "<Figure size 432x288 with 1 Axes>"
      ]
     },
     "metadata": {},
     "output_type": "display_data"
    }
   ],
   "source": [
    "grid = make_grid(n=50)\n",
    "im = draw(grid)"
   ]
  },
  {
   "cell_type": "code",
   "execution_count": 24,
   "metadata": {},
   "outputs": [],
   "source": [
    "segs = [step(grid, threshold=3) for i in range(3000)]"
   ]
  },
  {
   "cell_type": "code",
   "execution_count": 25,
   "metadata": {},
   "outputs": [
    {
     "data": {
      "image/png": "[encoded data removed]",
      "text/plain": [
       "<Figure size 432x288 with 1 Axes>"
      ]
     },
     "metadata": {
      "needs_background": "light"
     },
     "output_type": "display_data"
    }
   ],
   "source": [
    "plt.plot(segs)\n",
    "decorate_seg()"
   ]
  },
  {
   "cell_type": "code",
   "execution_count": 26,
   "metadata": {},
   "outputs": [
    {
     "data": {
      "image/png": "[encoded data removed]",
      "text/plain": [
       "<Figure size 432x288 with 1 Axes>"
      ]
     },
     "metadata": {},
     "output_type": "display_data"
    }
   ],
   "source": [
    "im = draw(grid)"
   ]
  },
  {
   "cell_type": "markdown",
   "metadata": {},
   "source": [
    "The following figure shows three steps in the evolution of the grid."
   ]
  },
  {
   "cell_type": "code",
   "execution_count": 27,
   "metadata": {},
   "outputs": [
    {
     "data": {
      "image/png": "[encoded data removed]",
      "text/plain": [
       "<Figure size 648x216 with 3 Axes>"
      ]
     },
     "metadata": {},
     "output_type": "display_data"
    }
   ],
   "source": [
    "np.random.seed(17)\n",
    "\n",
    "grid = make_grid(n=50)\n",
    "\n",
    "# draw the initial grid\n",
    "plt.figure(figsize=(9,3))\n",
    "plt.subplot(1,3,1)\n",
    "draw(grid)\n",
    "\n",
    "# first update\n",
    "plt.subplot(1,3,2)\n",
    "for i in range(1000):\n",
    "    step(grid)\n",
    "draw(grid)\n",
    "\n",
    "# second update\n",
    "plt.subplot(1,3,3)\n",
    "for i in range(1000):\n",
    "    step(grid)\n",
    "draw(grid)\n",
    "\n",
    "plt.tight_layout()"
   ]
  },
  {
   "cell_type": "markdown",
   "metadata": {},
   "source": [
    "**Exercise:** One more time, try out different values of `threshold`.  What value yields the biggest difference between `threshold` and the average number of same-color neighbors?"
   ]
  },
  {
   "cell_type": "markdown",
   "metadata": {},
   "source": [
    "### Animation\n",
    "\n",
    "The following functions animate the evolution of the grid."
   ]
  },
  {
   "cell_type": "code",
   "execution_count": 28,
   "metadata": {},
   "outputs": [],
   "source": [
    "from time import sleep\n",
    "from IPython.display import clear_output\n",
    "\n",
    "def animate(grid, frames, interval=None):\n",
    "    \"\"\"Animate the automaton.\n",
    "\n",
    "    grid: NumPy array\n",
    "    frames: number of frames to draw\n",
    "    interval: time between frames in seconds\n",
    "    \"\"\"\n",
    "    plt.figure()\n",
    "    try:\n",
    "        for i in range(frames-1):\n",
    "            draw(grid)\n",
    "            plt.show()\n",
    "            if interval:\n",
    "                sleep(interval)\n",
    "            step(grid)\n",
    "            clear_output(wait=True)\n",
    "        draw(grid)\n",
    "        plt.show()\n",
    "    except KeyboardInterrupt:\n",
    "        pass"
   ]
  },
  {
   "cell_type": "code",
   "execution_count": 29,
   "metadata": {},
   "outputs": [
    {
     "data": {
      "image/png": "[encoded data removed]",
      "text/plain": [
       "<Figure size 432x288 with 1 Axes>"
      ]
     },
     "metadata": {},
     "output_type": "display_data"
    }
   ],
   "source": [
    "grid = make_grid(n=50)\n",
    "animate(grid, frames=1000)"
   ]
  },
  {
   "cell_type": "markdown",
   "metadata": {},
   "source": [
    "**Exercise:** Experiment with different starting conditions: for example, more or fewer empty cells, or unequal numbers of red and blue agents."
   ]
  },
  {
   "cell_type": "markdown",
   "metadata": {},
   "source": [
    "# The Big Sort"
   ]
  },
  {
   "cell_type": "markdown",
   "metadata": {},
   "source": [
    "Bill Bishop, author of *The Big Sort*, argues that\n",
    "American society is increasingly segregated by political\n",
    "opinion, as people choose to live among like-minded neighbors.\n",
    "\n",
    "The mechanism Bishop hypothesizes is not that people, like the agents\n",
    "in Schelling's model, are more likely to move if they are\n",
    "isolated, but that when they move for any reason, they are\n",
    "likely to choose a neighborhood with people like themselves.\n",
    "\n",
    "Let's write a version of Schelling's model to simulate\n",
    "this kind of behavior and see if it yields similar degrees of\n",
    "segregation.\n",
    "\n",
    "We'll start with a random initial grid."
   ]
  },
  {
   "cell_type": "code",
   "execution_count": 30,
   "metadata": {},
   "outputs": [
    {
     "data": {
      "image/png": "[encoded data removed]",
      "text/plain": [
       "<Figure size 432x288 with 1 Axes>"
      ]
     },
     "metadata": {},
     "output_type": "display_data"
    }
   ],
   "source": [
    "grid = make_grid(n=10)\n",
    "im = draw(grid)"
   ]
  },
  {
   "cell_type": "markdown",
   "metadata": {},
   "source": [
    "Write a few lines of code to choose a random occupied location, and call it `source`."
   ]
  },
  {
   "cell_type": "code",
   "execution_count": 31,
   "metadata": {},
   "outputs": [
    {
     "data": {
      "text/plain": [
       "[(1, 1),\n",
       " (2, 4),\n",
       " (3, 6),\n",
       " (5, 7),\n",
       " (5, 8),\n",
       " (6, 9),\n",
       " (7, 4),\n",
       " (8, 3),\n",
       " (8, 7),\n",
       " (9, 9)]"
      ]
     },
     "execution_count": 31,
     "metadata": {},
     "output_type": "execute_result"
    }
   ],
   "source": [
    "empty = (grid==0)\n",
    "empty_locs = locs_where(empty)\n",
    "empty_locs"
   ]
  },
  {
   "cell_type": "code",
   "execution_count": 32,
   "metadata": {},
   "outputs": [],
   "source": [
    "full_locs = locs_where(~empty)"
   ]
  },
  {
   "cell_type": "code",
   "execution_count": 33,
   "metadata": {},
   "outputs": [
    {
     "data": {
      "text/plain": [
       "(3, 8)"
      ]
     },
     "execution_count": 33,
     "metadata": {},
     "output_type": "execute_result"
    }
   ],
   "source": [
    "source = random_loc(full_locs)\n",
    "source"
   ]
  },
  {
   "cell_type": "markdown",
   "metadata": {},
   "source": [
    "Here's a list of random empty locations the `source` agent could move to."
   ]
  },
  {
   "cell_type": "code",
   "execution_count": 34,
   "metadata": {},
   "outputs": [
    {
     "data": {
      "text/plain": [
       "[(6, 9), (2, 4)]"
      ]
     },
     "execution_count": 34,
     "metadata": {},
     "output_type": "execute_result"
    }
   ],
   "source": [
    "num_comps = 2\n",
    "dests = [random_loc(empty_locs) for i in range(num_comps)]\n",
    "dests"
   ]
  },
  {
   "cell_type": "markdown",
   "metadata": {},
   "source": [
    "The following cell computes the number of neighbors in each location that are the same color as `source`."
   ]
  },
  {
   "cell_type": "code",
   "execution_count": 35,
   "metadata": {},
   "outputs": [
    {
     "data": {
      "text/plain": [
       "array([[3, 4, 4, 3, 4, 5, 6, 6, 4, 5],\n",
       "       [4, 5, 2, 2, 1, 3, 4, 7, 5, 7],\n",
       "       [2, 4, 1, 4, 4, 6, 4, 5, 4, 5],\n",
       "       [3, 5, 4, 6, 3, 4, 5, 7, 5, 5],\n",
       "       [2, 3, 5, 7, 5, 6, 3, 4, 3, 3],\n",
       "       [3, 4, 5, 5, 4, 5, 4, 6, 5, 2],\n",
       "       [4, 3, 5, 5, 5, 4, 6, 4, 4, 4],\n",
       "       [2, 4, 3, 3, 5, 5, 6, 4, 4, 2],\n",
       "       [3, 5, 5, 6, 5, 6, 7, 6, 4, 3],\n",
       "       [3, 4, 4, 3, 4, 4, 5, 5, 3, 3]], dtype=int8)"
      ]
     },
     "execution_count": 35,
     "metadata": {},
     "output_type": "execute_result"
    }
   ],
   "source": [
    "same_color = (grid==grid[source])\n",
    "\n",
    "num_same = correlate2d(same_color, kernel, **options)\n",
    "num_same"
   ]
  },
  {
   "cell_type": "markdown",
   "metadata": {},
   "source": [
    "Now we can make a list with one tuple per destination, where the first element in each tuple is the number of same-color neighbors."
   ]
  },
  {
   "cell_type": "code",
   "execution_count": 36,
   "metadata": {},
   "outputs": [
    {
     "name": "stdout",
     "output_type": "stream",
     "text": [
      "(4, 0.02542406607896519, (6, 9))\n",
      "(4, 0.14519214569572636, (2, 4))\n"
     ]
    }
   ],
   "source": [
    "choices = [(num_same[dest], np.random.random(), dest) for dest in dests]\n",
    "\n",
    "for choice in choices:\n",
    "    print(choice)"
   ]
  },
  {
   "cell_type": "markdown",
   "metadata": {},
   "source": [
    "Using the `max` function, we get the location with the highest number of same-color neighbors, with ties broken at random."
   ]
  },
  {
   "cell_type": "code",
   "execution_count": 37,
   "metadata": {},
   "outputs": [
    {
     "data": {
      "text/plain": [
       "(4, 0.14519214569572636, (2, 4))"
      ]
     },
     "execution_count": 37,
     "metadata": {},
     "output_type": "execute_result"
    }
   ],
   "source": [
    "num, rand, dest = max(choices)\n",
    "num, rand, dest"
   ]
  },
  {
   "cell_type": "code",
   "execution_count": 38,
   "metadata": {},
   "outputs": [],
   "source": [
    "move(grid, source, dest)"
   ]
  },
  {
   "cell_type": "markdown",
   "metadata": {},
   "source": [
    "Now pull all of that code into a step function."
   ]
  },
  {
   "cell_type": "code",
   "execution_count": 39,
   "metadata": {},
   "outputs": [],
   "source": [
    "def step(grid, num_comps=2):\n",
    "    \"\"\"Simulate one time step.\n",
    "    \n",
    "    grid: NumPy array\n",
    "    num_comps: number of possible destinations the agent looks at\n",
    "    \n",
    "    return: average number of same-color neighbors\n",
    "    \"\"\"\n",
    "    # FILL THIS IN\n",
    "\n",
    "    return compute_num_same(grid).mean()"
   ]
  },
  {
   "cell_type": "code",
   "execution_count": 40,
   "metadata": {},
   "outputs": [],
   "source": [
    "# Solution\n",
    "\n",
    "def step(grid):\n",
    "    \"\"\"Simulate one time step.\n",
    "    \n",
    "    grid: NumPy array\n",
    "    num_comps: number of possible destinations the agent looks at\n",
    "    \n",
    "    return: average number of same-color neighbors\n",
    "    \"\"\"\n",
    "    empty = (grid==0)\n",
    "    empty_locs = locs_where(empty)\n",
    "    full_locs = locs_where(~empty)\n",
    "\n",
    "    source = random_loc(full_locs)\n",
    "    same_color = (grid==grid[source])\n",
    "\n",
    "    num_same = correlate2d(same_color, kernel, **options)\n",
    "\n",
    "    num_comps = 2\n",
    "    dests = [random_loc(empty_locs) for i in range(num_comps)]\n",
    "    choices = [(num_same[dest], np.random.random(), dest) for dest in dests]\n",
    "\n",
    "    _, _, dest = max(choices)\n",
    "\n",
    "    move(grid, source, dest)\n",
    "    \n",
    "    return compute_num_same(grid).mean()"
   ]
  },
  {
   "cell_type": "code",
   "execution_count": 41,
   "metadata": {},
   "outputs": [
    {
     "data": {
      "text/plain": [
       "3.44"
      ]
     },
     "execution_count": 41,
     "metadata": {},
     "output_type": "execute_result"
    }
   ],
   "source": [
    "step(grid)"
   ]
  },
  {
   "cell_type": "code",
   "execution_count": 42,
   "metadata": {},
   "outputs": [
    {
     "data": {
      "image/png": "[encoded data removed]",
      "text/plain": [
       "<Figure size 432x288 with 1 Axes>"
      ]
     },
     "metadata": {
      "needs_background": "light"
     },
     "output_type": "display_data"
    }
   ],
   "source": [
    "grid = make_grid(n=10)\n",
    "segs = [step(grid) for i in range(200)]\n",
    "plt.plot(segs)\n",
    "decorate_seg()"
   ]
  },
  {
   "cell_type": "markdown",
   "metadata": {},
   "source": [
    "**Exercise:** Experiment with different values of `num_comps` and see what effect they have on the result."
   ]
  },
  {
   "cell_type": "markdown",
   "metadata": {},
   "source": [
    "### Bigger grid\n",
    "\n",
    "Let's see how that looks on a bigger grid."
   ]
  },
  {
   "cell_type": "code",
   "execution_count": 43,
   "metadata": {},
   "outputs": [
    {
     "data": {
      "image/png": "[encoded data removed]",
      "text/plain": [
       "<Figure size 432x288 with 1 Axes>"
      ]
     },
     "metadata": {},
     "output_type": "display_data"
    }
   ],
   "source": [
    "grid = make_grid(n=50)\n",
    "im = draw(grid)"
   ]
  },
  {
   "cell_type": "code",
   "execution_count": 44,
   "metadata": {},
   "outputs": [],
   "source": [
    "segs = [step(grid) for i in range(2000)]"
   ]
  },
  {
   "cell_type": "code",
   "execution_count": 45,
   "metadata": {},
   "outputs": [
    {
     "data": {
      "image/png": "[encoded data removed]",
      "text/plain": [
       "<Figure size 432x288 with 1 Axes>"
      ]
     },
     "metadata": {
      "needs_background": "light"
     },
     "output_type": "display_data"
    }
   ],
   "source": [
    "plt.plot(segs)\n",
    "decorate_seg()"
   ]
  },
  {
   "cell_type": "code",
   "execution_count": 46,
   "metadata": {},
   "outputs": [
    {
     "data": {
      "image/png": "[encoded data removed]",
      "text/plain": [
       "<Figure size 432x288 with 1 Axes>"
      ]
     },
     "metadata": {},
     "output_type": "display_data"
    }
   ],
   "source": [
    "im = draw(grid)"
   ]
  },
  {
   "cell_type": "markdown",
   "metadata": {},
   "source": [
    "The following figure shows three steps in the evolution of the grid."
   ]
  },
  {
   "cell_type": "code",
   "execution_count": 47,
   "metadata": {},
   "outputs": [
    {
     "data": {
      "image/png": "[encoded data removed]",
      "text/plain": [
       "<Figure size 648x216 with 3 Axes>"
      ]
     },
     "metadata": {},
     "output_type": "display_data"
    }
   ],
   "source": [
    "np.random.seed(17)\n",
    "\n",
    "grid = make_grid(n=50)\n",
    "\n",
    "# draw the initial grid\n",
    "plt.figure(figsize=(9,3))\n",
    "plt.subplot(1,3,1)\n",
    "draw(grid)\n",
    "\n",
    "# first update\n",
    "plt.subplot(1,3,2)\n",
    "for i in range(1000):\n",
    "    step(grid)\n",
    "draw(grid)\n",
    "\n",
    "# second update\n",
    "plt.subplot(1,3,3)\n",
    "for i in range(1000):\n",
    "    step(grid)\n",
    "draw(grid)\n",
    "\n",
    "plt.tight_layout()"
   ]
  },
  {
   "cell_type": "markdown",
   "metadata": {},
   "source": [
    "**Exercise:** One more time, try out different values of `num_comps`."
   ]
  },
  {
   "cell_type": "markdown",
   "metadata": {},
   "source": [
    "### Animation\n",
    "\n",
    "Let's see what the animation looks like."
   ]
  },
  {
   "cell_type": "code",
   "execution_count": 48,
   "metadata": {},
   "outputs": [
    {
     "data": {
      "image/png": "[encoded data removed]",
      "text/plain": [
       "<Figure size 432x288 with 1 Axes>"
      ]
     },
     "metadata": {},
     "output_type": "display_data"
    }
   ],
   "source": [
    "grid = make_grid(n=50)\n",
    "animate(grid, frames=1000)"
   ]
  },
  {
   "cell_type": "code",
   "execution_count": null,
   "metadata": {},
   "outputs": [],
   "source": []
  }
 ],
 "metadata": {
  "kernelspec": {
   "display_name": "Python 3",
   "language": "python",
   "name": "python3"
  },
  "language_info": {
   "codemirror_mode": {
    "name": "ipython",
    "version": 3
   },
   "file_extension": ".py",
   "mimetype": "text/x-python",
   "name": "python",
   "nbconvert_exporter": "python",
   "pygments_lexer": "ipython3",
   "version": "3.7.3"
  }
 },
 "nbformat": 4,
 "nbformat_minor": 2
}
